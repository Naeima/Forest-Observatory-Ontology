{
 "cells": [
  {
   "cell_type": "code",
   "execution_count": 1,
   "metadata": {},
   "outputs": [],
   "source": [
    "#import libraries\n",
    "\n",
    "from rdflib import Graph, Literal, RDF, URIRef, Namespace \n",
    "from rdflib.namespace import FOAF , XSD, SSN, SOSA \n",
    "import urllib.parse\n",
    "import pandas as pd \n",
    "import matplotlib.pylab as plt\n",
    "from matplotlib import pyplot"
   ]
  },
  {
   "cell_type": "code",
   "execution_count": 2,
   "metadata": {},
   "outputs": [],
   "source": [
    "#read in the csv file \n",
    "\n",
    "df = pd.read_csv('soilpro.csv')"
   ]
  },
  {
   "cell_type": "code",
   "execution_count": 3,
   "metadata": {},
   "outputs": [
    {
     "data": {
      "text/html": [
       "<div>\n",
       "<style scoped>\n",
       "    .dataframe tbody tr th:only-of-type {\n",
       "        vertical-align: middle;\n",
       "    }\n",
       "\n",
       "    .dataframe tbody tr th {\n",
       "        vertical-align: top;\n",
       "    }\n",
       "\n",
       "    .dataframe thead th {\n",
       "        text-align: right;\n",
       "    }\n",
       "</style>\n",
       "<table border=\"1\" class=\"dataframe\">\n",
       "  <thead>\n",
       "    <tr style=\"text-align: right;\">\n",
       "      <th></th>\n",
       "      <th>Identifier</th>\n",
       "      <th>Site</th>\n",
       "      <th>Land_Use</th>\n",
       "      <th>Plot_Name</th>\n",
       "      <th>Subplot</th>\n",
       "      <th>Horizon</th>\n",
       "      <th>Soil_Moisture</th>\n",
       "      <th>Horizon_Depth</th>\n",
       "      <th>Bulk_Density</th>\n",
       "      <th>Soil_pH</th>\n",
       "      <th>total_C</th>\n",
       "      <th>total_N</th>\n",
       "      <th>Inorganic_P</th>\n",
       "      <th>C:N</th>\n",
       "      <th>C:P</th>\n",
       "    </tr>\n",
       "  </thead>\n",
       "  <tbody>\n",
       "    <tr>\n",
       "      <th>220</th>\n",
       "      <td>SOP93</td>\n",
       "      <td>SAFE Project - Kalabakan Forest Reserve</td>\n",
       "      <td>Oil Palm</td>\n",
       "      <td>OP</td>\n",
       "      <td>9</td>\n",
       "      <td>Organic</td>\n",
       "      <td>12.26</td>\n",
       "      <td>3.0</td>\n",
       "      <td>0.80</td>\n",
       "      <td>6.63</td>\n",
       "      <td>2.79</td>\n",
       "      <td>0.23</td>\n",
       "      <td>48.31</td>\n",
       "      <td>12.08</td>\n",
       "      <td>0.06</td>\n",
       "    </tr>\n",
       "    <tr>\n",
       "      <th>221</th>\n",
       "      <td>SOP94</td>\n",
       "      <td>SAFE Project - Kalabakan Forest Reserve</td>\n",
       "      <td>Oil Palm</td>\n",
       "      <td>OP</td>\n",
       "      <td>9</td>\n",
       "      <td>Organic</td>\n",
       "      <td>10.83</td>\n",
       "      <td>5.5</td>\n",
       "      <td>1.07</td>\n",
       "      <td>6.53</td>\n",
       "      <td>6.06</td>\n",
       "      <td>0.43</td>\n",
       "      <td>126.75</td>\n",
       "      <td>13.94</td>\n",
       "      <td>0.05</td>\n",
       "    </tr>\n",
       "  </tbody>\n",
       "</table>\n",
       "</div>"
      ],
      "text/plain": [
       "    Identifier                                     Site  Land_Use Plot_Name  \\\n",
       "220      SOP93  SAFE Project - Kalabakan Forest Reserve  Oil Palm        OP   \n",
       "221      SOP94  SAFE Project - Kalabakan Forest Reserve  Oil Palm        OP   \n",
       "\n",
       "     Subplot  Horizon  Soil_Moisture  Horizon_Depth  Bulk_Density  Soil_pH  \\\n",
       "220        9  Organic          12.26            3.0          0.80     6.63   \n",
       "221        9  Organic          10.83            5.5          1.07     6.53   \n",
       "\n",
       "     total_C  total_N  Inorganic_P    C:N   C:P  \n",
       "220     2.79     0.23        48.31  12.08  0.06  \n",
       "221     6.06     0.43       126.75  13.94  0.05  "
      ]
     },
     "execution_count": 3,
     "metadata": {},
     "output_type": "execute_result"
    }
   ],
   "source": [
    "df.tail(2)"
   ]
  },
  {
   "cell_type": "code",
   "execution_count": null,
   "metadata": {},
   "outputs": [],
   "source": [
    "#decalring prefixes \n",
    "\n",
    "g = Graph()\n",
    "ID = Namespace('SoilPropertiesCeh_')\n",
    "SOSA = Namespace('http://www.w3.org/ns/sosa/')\n",
    "UNIT= Namespace('http://qudt.org/vocab/unit/')\n",
    "schema = Namespace('http://schema.org/')\n",
    "uri=URIRef('http://www.w3.org/2000/01/rdf-schema#')\n",
    "OBSPRO= Namespace('http://www.w3.org/ns/sosa/ObservableProperty/')\n",
    "FEATURE= Namespace('http://www.w3.org/ns/sosa/FeatureOfInterest/')\n",
    "TIME = Namespace('http://www.w3.org/2006/time#')\n",
    "VOID = Namespace('http://rdfs.org/ns/void#')\n",
    "XMLNS = Namespace('http://www.w3.org/XML/1998/namespace')\n",
    "DGFC = Namespace('http://www.DGFC/ontology/2021/1.0/')"
   ]
  },
  {
   "cell_type": "code",
   "execution_count": null,
   "metadata": {},
   "outputs": [],
   "source": [
    "#serialising the graph\n",
    "\n",
    "for index, row in df.iterrows():\n",
    "    g.add((URIRef(ID+row['Identifier']), RDF.type, SOSA.Observation))\n",
    "    \n",
    "    g.add((URIRef(ID+row['Identifier']), SOSA.Observation, Literal(row['Identifier'], datatype=XSD.string)))\n",
    "    \n",
    "    g.add((URIRef(ID+row['Identifier']), URIRef('DGFC'), Literal(row['Identifier'], datatype=XSD.string)))\n",
    "      \n",
    "    g.add((URIRef(ID+row['Identifier']), FEATURE.Site, Literal(row['Site'], datatype=XSD.string)))\n",
    "    \n",
    "    g.add((URIRef(ID+row['Identifier']), DGFC.Land_Use, Literal(row['Land_Use'], datatype=XSD.string)))\n",
    "    \n",
    "    g.add((URIRef(ID+row['Identifier']), DGFC.Plot_Name, Literal(row['Plot_Name'], datatype=XSD.string)))\n",
    "    \n",
    "    g.add((URIRef(ID+row['Identifier']), OBSPRO.Subplot, Literal(row['Subplot'], datatype=XSD.integer))) \n",
    "\n",
    "    g.add((URIRef(ID+row['Identifier']), OBSPRO.Horizon, Literal(row['Horizon'], datatype=XSD.string))) \n",
    "    \n",
    "    g.add((URIRef(ID+row['Identifier']), OBSPRO.Soil_Moisture, Literal(row['Soil_Moisture'], datatype=XSD.float)))\n",
    "    \n",
    "    g.add((URIRef(ID+row['Identifier']), OBSPRO.Horizon_Depth, Literal(row['Horizon_Depth'], datatype=XSD.float)))\n",
    "    \n",
    "    g.add((URIRef(ID+row['Identifier']), OBSPRO.Bulk_Density, Literal(row['Bulk_Density'], datatype=XSD.float)))\n",
    "    \n",
    "    g.add((URIRef(ID+row['Identifier']), OBSPRO.Soil_pH, Literal(row['Soil_pH'], datatype=XSD.float)))\n",
    "    \n",
    "    g.add((URIRef(ID+row['Identifier']), OBSPRO.total_C, Literal(row['total_C'], datatype=XSD.float)))\n",
    "    \n",
    "    g.add((URIRef(ID+row['Identifier']), OBSPRO.total_N, Literal(row['total_N'], datatype=XSD.float)))\n",
    "    \n",
    "    g.add((URIRef(ID+row['Identifier']), OBSPRO.CtoN, Literal(row['C:N'], datatype=XSD.float)))\n",
    "    \n",
    "    g.add((URIRef(ID+row['Identifier']), OBSPRO.CtoP, Literal(row['C:P'], datatype=XSD.float)))\n",
    "    "
   ]
  },
  {
   "cell_type": "code",
   "execution_count": null,
   "metadata": {},
   "outputs": [],
   "source": [
    "# print(g.serialize(format='turtle').decode('UTF-8'))"
   ]
  },
  {
   "cell_type": "code",
   "execution_count": null,
   "metadata": {},
   "outputs": [],
   "source": [
    "# saving graph to disk\n",
    "g.serialize('soil.rdf', format='ttl')"
   ]
  },
  {
   "cell_type": "code",
   "execution_count": null,
   "metadata": {},
   "outputs": [],
   "source": [
    "# Code to add data to stardog \n",
    "import stardog\n",
    "\n",
    "conn_details = {\n",
    "  'endpoint': 'http://localhost:5820',\n",
    "  'username': 'admin',\n",
    "  'password': 'admin'\n",
    "}\n",
    "with stardog.Admin(**conn_details) as admin:\n",
    "    soil = admin.new_database('soil')\n",
    "\n",
    "conn = stardog.Connection('soil', **conn_details)\n",
    "\n",
    "conn.begin()\n",
    "\n",
    "conn.add(\n",
    "    stardog.content.File('soil.rdf', stardog.content_types.TURTLE)\n",
    "#     graph_uri=graph_uri)\n",
    "conn.commit()"
   ]
  },
  {
   "cell_type": "code",
   "execution_count": null,
   "metadata": {},
   "outputs": [],
   "source": []
  },
  {
   "cell_type": "code",
   "execution_count": null,
   "metadata": {},
   "outputs": [],
   "source": []
  }
 ],
 "metadata": {
  "kernelspec": {
   "display_name": "Python 3 (ipykernel)",
   "language": "python",
   "name": "python3"
  },
  "language_info": {
   "codemirror_mode": {
    "name": "ipython",
    "version": 3
   },
   "file_extension": ".py",
   "mimetype": "text/x-python",
   "name": "python",
   "nbconvert_exporter": "python",
   "pygments_lexer": "ipython3",
   "version": "3.8.1"
  }
 },
 "nbformat": 4,
 "nbformat_minor": 4
}
