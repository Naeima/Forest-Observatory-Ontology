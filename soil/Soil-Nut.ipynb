{
 "cells": [
  {
   "cell_type": "code",
   "execution_count": 18,
   "metadata": {},
   "outputs": [],
   "source": [
    "from rdflib import Graph, Literal, RDF, URIRef, Namespace \n",
    "from rdflib.namespace import FOAF , XSD, SSN, SOSA \n",
    "import urllib.parse\n",
    "import pandas as pd \n",
    "import matplotlib.pylab as plt\n",
    "from matplotlib import pyplot"
   ]
  },
  {
   "cell_type": "code",
   "execution_count": 19,
   "metadata": {},
   "outputs": [],
   "source": [
    "df = pd.read_csv('SoilNu.csv')"
   ]
  },
  {
   "cell_type": "code",
   "execution_count": 20,
   "metadata": {},
   "outputs": [
    {
     "data": {
      "text/html": [
       "<div>\n",
       "<style scoped>\n",
       "    .dataframe tbody tr th:only-of-type {\n",
       "        vertical-align: middle;\n",
       "    }\n",
       "\n",
       "    .dataframe tbody tr th {\n",
       "        vertical-align: top;\n",
       "    }\n",
       "\n",
       "    .dataframe thead th {\n",
       "        text-align: right;\n",
       "    }\n",
       "</style>\n",
       "<table border=\"1\" class=\"dataframe\">\n",
       "  <thead>\n",
       "    <tr style=\"text-align: right;\">\n",
       "      <th></th>\n",
       "      <th>Identifier</th>\n",
       "      <th>Site</th>\n",
       "      <th>Land_Use</th>\n",
       "      <th>Plot_Name</th>\n",
       "      <th>Subplot</th>\n",
       "      <th>NO3_N</th>\n",
       "      <th>NH4_N</th>\n",
       "      <th>Total_N</th>\n",
       "      <th>Ca</th>\n",
       "      <th>Mg</th>\n",
       "      <th>...</th>\n",
       "      <th>P</th>\n",
       "      <th>Fe</th>\n",
       "      <th>Mn</th>\n",
       "      <th>Cu</th>\n",
       "      <th>Zn</th>\n",
       "      <th>B</th>\n",
       "      <th>S</th>\n",
       "      <th>Pb</th>\n",
       "      <th>Al</th>\n",
       "      <th>Cd</th>\n",
       "    </tr>\n",
       "  </thead>\n",
       "  <tbody>\n",
       "    <tr>\n",
       "      <th>79</th>\n",
       "      <td>SOP92</td>\n",
       "      <td>SAFE Project - Kalabakan Forest Reserve</td>\n",
       "      <td>Oil Palm</td>\n",
       "      <td>OP</td>\n",
       "      <td>9</td>\n",
       "      <td>153.04</td>\n",
       "      <td>6.98</td>\n",
       "      <td>160.02</td>\n",
       "      <td>464.40</td>\n",
       "      <td>544.23</td>\n",
       "      <td>...</td>\n",
       "      <td>6.62</td>\n",
       "      <td>23.79</td>\n",
       "      <td>191.15</td>\n",
       "      <td>0.50</td>\n",
       "      <td>2.38</td>\n",
       "      <td>0.14</td>\n",
       "      <td>342.49</td>\n",
       "      <td>1.46</td>\n",
       "      <td>179.74</td>\n",
       "      <td>0.00</td>\n",
       "    </tr>\n",
       "    <tr>\n",
       "      <th>80</th>\n",
       "      <td>SOP93</td>\n",
       "      <td>SAFE Project - Kalabakan Forest Reserve</td>\n",
       "      <td>Oil Palm</td>\n",
       "      <td>OP</td>\n",
       "      <td>9</td>\n",
       "      <td>18.14</td>\n",
       "      <td>7.48</td>\n",
       "      <td>25.62</td>\n",
       "      <td>204.13</td>\n",
       "      <td>149.27</td>\n",
       "      <td>...</td>\n",
       "      <td>0.70</td>\n",
       "      <td>8.57</td>\n",
       "      <td>13.77</td>\n",
       "      <td>0.24</td>\n",
       "      <td>0.98</td>\n",
       "      <td>0.09</td>\n",
       "      <td>92.57</td>\n",
       "      <td>0.55</td>\n",
       "      <td>137.47</td>\n",
       "      <td>0.04</td>\n",
       "    </tr>\n",
       "  </tbody>\n",
       "</table>\n",
       "<p>2 rows × 21 columns</p>\n",
       "</div>"
      ],
      "text/plain": [
       "   Identifier                                     Site  Land_Use Plot_Name  \\\n",
       "79      SOP92  SAFE Project - Kalabakan Forest Reserve  Oil Palm        OP   \n",
       "80      SOP93  SAFE Project - Kalabakan Forest Reserve  Oil Palm        OP   \n",
       "\n",
       "    Subplot   NO3_N  NH4_N  Total_N      Ca      Mg  ...     P     Fe      Mn  \\\n",
       "79        9  153.04   6.98   160.02  464.40  544.23  ...  6.62  23.79  191.15   \n",
       "80        9   18.14   7.48    25.62  204.13  149.27  ...  0.70   8.57   13.77   \n",
       "\n",
       "      Cu    Zn     B       S    Pb      Al    Cd  \n",
       "79  0.50  2.38  0.14  342.49  1.46  179.74  0.00  \n",
       "80  0.24  0.98  0.09   92.57  0.55  137.47  0.04  \n",
       "\n",
       "[2 rows x 21 columns]"
      ]
     },
     "execution_count": 20,
     "metadata": {},
     "output_type": "execute_result"
    }
   ],
   "source": [
    "df.tail(2)"
   ]
  },
  {
   "cell_type": "code",
   "execution_count": 21,
   "metadata": {},
   "outputs": [],
   "source": [
    "g = Graph()\n",
    "ID = Namespace('SoilNutrients_')\n",
    "SOSA = Namespace('http://www.w3.org/ns/sosa/')\n",
    "UNIT= Namespace('http://qudt.org/vocab/unit/')\n",
    "schema = Namespace('http://schema.org/')\n",
    "uri=URIRef('http://www.w3.org/2000/01/rdf-schema#')\n",
    "OBSPRO= Namespace('http://www.w3.org/ns/sosa/ObservableProperty/')\n",
    "FEATURE= Namespace('http://www.w3.org/ns/sosa/FeatureOfInterest/')\n",
    "TIME = Namespace('http://www.w3.org/2006/time#')\n",
    "VOID = Namespace('http://rdfs.org/ns/void#')\n",
    "XMLNS = Namespace('http://www.w3.org/XML/1998/namespace')"
   ]
  },
  {
   "cell_type": "code",
   "execution_count": 22,
   "metadata": {},
   "outputs": [],
   "source": [
    "for index, row in df.iterrows():\n",
    "    g.add((URIRef(ID+row['Identifier']), RDF.type, SOSA.Observation))\n",
    "    \n",
    "    g.add((URIRef(ID+row['Identifier']), SOSA.Observation, Literal(row['Identifier'], datatype=XSD.string)))\n",
    "    \n",
    "    g.add((URIRef(ID+row['Identifier']), URIRef(schema+'Soil_Nutrients'), Literal(row['Identifier'], datatype=XSD.string)))\n",
    "      \n",
    "    g.add((URIRef(ID+row['Identifier']), FEATURE.Site, Literal(row['Site'], datatype=XSD.string)))\n",
    "    \n",
    "    g.add((URIRef(ID+row['Identifier']), schema.Land_Use, Literal(row['Land_Use'], datatype=XSD.string)))\n",
    "    \n",
    "    g.add((URIRef(ID+row['Identifier']), schema.Plot_Name, Literal(row['Plot_Name'], datatype=XSD.string)))\n",
    "    \n",
    "    g.add((URIRef(ID+row['Identifier']), FEATURE.Subplot, Literal(row['Subplot'], datatype=XSD.integer)))  \n",
    "    \n",
    "    g.add((URIRef(ID+row['Identifier']), OBSPRO.NO3_N, Literal(row['NO3_N'], datatype=XSD.float)))\n",
    "    \n",
    "    g.add((URIRef(ID+row['Identifier']), OBSPRO.NH4_N, Literal(row['NH4_N'], datatype=XSD.float)))\n",
    "    \n",
    "    g.add((URIRef(ID+row['Identifier']), OBSPRO.Total_N, Literal(row['Total_N'], datatype=XSD.float)))\n",
    "    \n",
    "    g.add((URIRef(ID+row['Identifier']), OBSPRO.Ca, Literal(row['Ca'], datatype=XSD.float)))\n",
    "    \n",
    "    g.add((URIRef(ID+row['Identifier']), OBSPRO.Mg, Literal(row['Mg'], datatype=XSD.float)))\n",
    "    \n",
    "    g.add((URIRef(ID+row['Identifier']), OBSPRO.K, Literal(row['K'], datatype=XSD.float)))\n",
    "    \n",
    "    g.add((URIRef(ID+row['Identifier']), OBSPRO.P, Literal(row['P'], datatype=XSD.float)))\n",
    "    \n",
    "    g.add((URIRef(ID+row['Identifier']), OBSPRO.Fe, Literal(row['Fe'], datatype=XSD.float)))\n",
    "    \n",
    "    g.add((URIRef(ID+row['Identifier']), OBSPRO.Mn, Literal(row['Mn'], datatype=XSD.float)))\n",
    "    \n",
    "    g.add((URIRef(ID+row['Identifier']), OBSPRO.Cu, Literal(row['Cu'], datatype=XSD.float)))\n",
    "    \n",
    "    g.add((URIRef(ID+row['Identifier']), OBSPRO.Zn, Literal(row['Zn'], datatype=XSD.float)))\n",
    "    \n",
    "    g.add((URIRef(ID+row['Identifier']), OBSPRO.B, Literal(row['B'], datatype=XSD.float)))\n",
    "    \n",
    "    g.add((URIRef(ID+row['Identifier']), OBSPRO.S, Literal(row['S'], datatype=XSD.float)))\n",
    "    \n",
    "    g.add((URIRef(ID+row['Identifier']), OBSPRO.Pb, Literal(row['Pb'], datatype=XSD.float)))\n",
    "    \n",
    "    g.add((URIRef(ID+row['Identifier']), OBSPRO.Al, Literal(row['Al'], datatype=XSD.float)))\n",
    "    \n",
    "    g.add((URIRef(ID+row['Identifier']), OBSPRO.Cd, Literal(row['Cd'], datatype=XSD.float)))\n"
   ]
  },
  {
   "cell_type": "code",
   "execution_count": 23,
   "metadata": {},
   "outputs": [],
   "source": [
    "# print(g.serialize(format='turtle').decode('UTF-8'))"
   ]
  },
  {
   "cell_type": "code",
   "execution_count": 24,
   "metadata": {},
   "outputs": [],
   "source": [
    "# saving ontology to disk\n",
    "g.serialize('SoilNut.rdf', format='ttl')"
   ]
  },
  {
   "cell_type": "code",
   "execution_count": 75,
   "metadata": {},
   "outputs": [],
   "source": [
    "# # Code to add data to stardog \n",
    "# import stardog\n",
    "\n",
    "# conn_details = {\n",
    "#   'endpoint': 'http://localhost:5820',\n",
    "#   'username': 'admin',\n",
    "#   'password': 'admin'\n",
    "# }\n",
    "# with stardog.Admin(**conn_details) as admin:\n",
    "#     Aqeela = admin.new_database('Aqeela')\n",
    "\n",
    "# conn = stardog.Connection('Aqeela', **conn_details)\n",
    "\n",
    "# conn.begin()\n",
    "\n",
    "# conn.add(\n",
    "#     stardog.content.File('Aqeela.rdf', stardog.content_types.TURTLE),\n",
    "# #     graph_uri=graph_uri)\n",
    "# conn.commit()"
   ]
  },
  {
   "cell_type": "code",
   "execution_count": 76,
   "metadata": {},
   "outputs": [
    {
     "ename": "SyntaxError",
     "evalue": "unexpected EOF while parsing (Temp/ipykernel_6232/1032307845.py, line 16)",
     "output_type": "error",
     "traceback": [
      "\u001b[1;36m  File \u001b[1;32m\"C:\\Users\\admin\\AppData\\Local\\Temp/ipykernel_6232/1032307845.py\"\u001b[1;36m, line \u001b[1;32m16\u001b[0m\n\u001b[1;33m    conn.commit()\u001b[0m\n\u001b[1;37m                 ^\u001b[0m\n\u001b[1;31mSyntaxError\u001b[0m\u001b[1;31m:\u001b[0m unexpected EOF while parsing\n"
     ]
    }
   ],
   "source": [
    "# # Code to add data to stardog shared database  \n",
    "# import stardog\n",
    "\n",
    "# conn_details = {\n",
    "#   'endpoint': 'https://stardog.cs.cf.ac.uk',\n",
    "#   'username': 'c1887413',\n",
    "#   'password': 'd5XPMny3epjcBgE'}\n",
    "\n",
    "# conn = stardog.Connection('forest_observatory', **conn_details)\n",
    "\n",
    "# conn.begin()\n",
    "\n",
    "# conn.add(\n",
    "#     stardog.content.File('SoilPro.rdf', stardog.content_types.TURTLE),\n",
    "\n",
    "# conn.commit()"
   ]
  },
  {
   "cell_type": "code",
   "execution_count": null,
   "metadata": {},
   "outputs": [],
   "source": []
  }
 ],
 "metadata": {
  "kernelspec": {
   "display_name": "Python 3 (ipykernel)",
   "language": "python",
   "name": "python3"
  },
  "language_info": {
   "codemirror_mode": {
    "name": "ipython",
    "version": 3
   },
   "file_extension": ".py",
   "mimetype": "text/x-python",
   "name": "python",
   "nbconvert_exporter": "python",
   "pygments_lexer": "ipython3",
   "version": "3.8.1"
  }
 },
 "nbformat": 4,
 "nbformat_minor": 4
}
