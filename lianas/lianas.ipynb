{
 "cells": [
  {
   "cell_type": "code",
   "execution_count": 1,
   "metadata": {},
   "outputs": [],
   "source": [
    "from rdflib import Graph, Literal, RDF, URIRef, Namespace \n",
    "from rdflib.namespace import FOAF , XSD, SSN, SOSA \n",
    "import urllib.parse\n",
    "import pandas as pd \n",
    "import matplotlib.pylab as plt\n",
    "from matplotlib import pyplot"
   ]
  },
  {
   "cell_type": "code",
   "execution_count": 2,
   "metadata": {},
   "outputs": [],
   "source": [
    "df = pd.read_csv('lianas.csv')"
   ]
  },
  {
   "cell_type": "code",
   "execution_count": null,
   "metadata": {},
   "outputs": [],
   "source": [
    "df['ID1'] = df.index + 1"
   ]
  },
  {
   "cell_type": "code",
   "execution_count": null,
   "metadata": {},
   "outputs": [],
   "source": [
    "df"
   ]
  },
  {
   "cell_type": "code",
   "execution_count": null,
   "metadata": {},
   "outputs": [],
   "source": [
    "df['ID'] ='lianas' + df['ID1'].astype(str)"
   ]
  },
  {
   "cell_type": "code",
   "execution_count": null,
   "metadata": {},
   "outputs": [],
   "source": [
    "df.tail(2)"
   ]
  },
  {
   "cell_type": "code",
   "execution_count": null,
   "metadata": {},
   "outputs": [],
   "source": [
    "g = Graph()\n",
    "ID = Namespace('foo_')\n",
    "sosa = Namespace('http://www.w3.org/ns/sosa/')\n",
    "foo = Namespace('http://www.ontology/ns/foo/1.1#')\n",
    "lat = Namespace('http://www.w3.org/2003/01/geo/wgs84_pos#')\n",
    "long =Namespace('http://www.w3.org/2003/01/geo/wgs84_pos#')\n",
    "alt = Namespace('http://www.w3.org/2003/01/geo/wgs84_pos#')\n",
    "schema = Namespace('http://schema.org/')\n",
    "TIME = Namespace('http://www.w3.org/2006/time#')"
   ]
  },
  {
   "cell_type": "code",
   "execution_count": null,
   "metadata": {},
   "outputs": [],
   "source": [
    "for index, row in df.iterrows():\n",
    "    g.add((URIRef(ID+row['ID']), RDF.type, sosa.Observation)) \n",
    "    g.add((URIRef(ID+row['ID']), foo.ID, Literal(row['ID'], datatype=XSD.string))) \n",
    "    \n",
    "    g.add((URIRef(schema+'lianas'), RDF.type, sosa.FeatureOfInterest)) \n",
    "    g.add((URIRef(ID+row['ID']), URIRef(schema+'lianas'), Literal(row['ID'], datatype=XSD.string)))   \n",
    "    \n",
    "    g.add((URIRef(schema+schema+'VegetationSensor'), RDF.type, sosa.Sensor)) \n",
    "    g.add((URIRef(ID+row['ID']), URIRef(schema+'VegetationSensor'), Literal(row['ID'], datatype=XSD.string)))    \n",
    "      \n",
    "    g.add((URIRef(foo+'Site_name'), RDF.type, sosa.observedProperty))\n",
    "    g.add((URIRef(ID+row['ID']), foo.Site_name, Literal(row['Site_name'], datatype=XSD.string)))\n",
    "        \n",
    "    g.add((URIRef(foo+'Plot_no'), RDF.type, sosa.observedProperty))\n",
    "    g.add((URIRef(ID+row['ID']), foo.Plot_no, Literal(row['Plot_no'], datatype=XSD.integer)))\n",
    "    \n",
    "    g.add((URIRef(foo+'Site_plot_code'), RDF.type, sosa.observedProperty))\n",
    "    g.add((URIRef(ID+row['ID']), foo.Site_plot_code, Literal(row['Site_plot_code'], datatype=XSD.string)))\n",
    "    \n",
    "    g.add((URIRef(foo+'Date'), RDF.type, sosa.observedProperty))\n",
    "    g.add((URIRef(ID+row['ID']), TIME.Date, Literal(row['Date'], datatype=XSD.date)))\n",
    "    \n",
    "    g.add((URIRef(foo+'Tree_individual_no'), RDF.type, sosa.observedProperty))\n",
    "    g.add((URIRef(ID+row['ID']), foo.Tree_individual_no, Literal(row['Tree_individual_no'], datatype=XSD.integer)))\n",
    "    \n",
    "    g.add((URIRef(foo+'Tree_ID'), RDF.type, sosa.observedProperty))\n",
    "    g.add((URIRef(ID+row['ID']), foo.Tree_ID, Literal(row['Tree_ID'], datatype=XSD.string)))\n",
    "    \n",
    "    g.add((URIRef(foo+'Tree_dbh_cm'), RDF.type, sosa.observedProperty))\n",
    "    g.add((URIRef(ID+row['ID']), foo.Tree_dbh_cm, Literal(row['Tree_dbh_cm'], datatype=XSD.float)))\n",
    "    \n",
    "    g.add((URIRef(foo+'Tree_height_m'), RDF.type, sosa.observedProperty))\n",
    "    g.add((URIRef(ID+row['ID']), foo.Tree_height_m, Literal(row['Tree_height_m'], datatype=XSD.float)))\n",
    "    \n",
    "    g.add((URIRef(foo+'Liana_dbh_cm'), RDF.type, sosa.observedProperty))\n",
    "    g.add((URIRef(ID+row['ID']), foo.Liana_dbh_cm, Literal(row['Liana_dbh_cm'], datatype=XSD.float)))\n",
    "    \n",
    "    g.add((URIRef(foo+'Tree_notes'), RDF.type, sosa.observedProperty))\n",
    "    g.add((URIRef(ID+row['ID']), foo.Liana_dbh_cm, Literal(row['Tree_notes'], datatype=XSD.string)))\n",
    "    \n",
    "    g.add((URIRef(foo+'Subplot_radius_m'), RDF.type, sosa.observedProperty))\n",
    "    g.add((URIRef(ID+row['ID']), foo.Subplot_radius_m, Literal(row['Subplot_radius_m'], datatype=XSD.integer)))\n",
    "    "
   ]
  },
  {
   "cell_type": "code",
   "execution_count": null,
   "metadata": {},
   "outputs": [],
   "source": [
    "print(g.serialize(format='turtle'))"
   ]
  },
  {
   "cell_type": "code",
   "execution_count": null,
   "metadata": {},
   "outputs": [],
   "source": [
    "# saving ontology to disk\n",
    "g.serialize('lianas.rdf', format='ttl')"
   ]
  },
  {
   "cell_type": "code",
   "execution_count": null,
   "metadata": {},
   "outputs": [],
   "source": [
    "# # Code to add data to stardog \n",
    "# import stardog\n",
    "\n",
    "# conn_details = {\n",
    "#   'endpoint': 'http://localhost:5820',\n",
    "#   'username': 'admin',\n",
    "#   'password': 'admin'\n",
    "# }\n",
    "# with stardog.Admin(**conn_details) as admin:\n",
    "#     Aqeela = admin.new_database('Aqeela')\n",
    "\n",
    "# conn = stardog.Connection('Aqeela', **conn_details)\n",
    "\n",
    "# conn.begin()\n",
    "\n",
    "# conn.add(\n",
    "#     stardog.content.File('Aqeela.rdf', stardog.content_types.TURTLE),\n",
    "# #     graph_uri=graph_uri)\n",
    "# conn.commit()"
   ]
  },
  {
   "cell_type": "code",
   "execution_count": null,
   "metadata": {},
   "outputs": [],
   "source": [
    "# # Code to add data to stardog shared database  \n",
    "# import stardog\n",
    "\n",
    "# conn_details = {\n",
    "#   'endpoint': 'https://stardog.cs.cf.ac.uk',\n",
    "#   'username': 'c1887413',\n",
    "#   'password': 'd5XPMny3epjcBgE'}\n",
    "\n",
    "# conn = stardog.Connection('forest_observatory', **conn_details)\n",
    "\n",
    "# conn.begin()\n",
    "\n",
    "# conn.add(\n",
    "#     stardog.content.File('SoilPro.rdf', stardog.content_types.TURTLE),\n",
    "\n",
    "# conn.commit()"
   ]
  },
  {
   "cell_type": "code",
   "execution_count": null,
   "metadata": {},
   "outputs": [],
   "source": []
  }
 ],
 "metadata": {
  "kernelspec": {
   "display_name": "Python 3 (ipykernel)",
   "language": "python",
   "name": "python3"
  },
  "language_info": {
   "codemirror_mode": {
    "name": "ipython",
    "version": 3
   },
   "file_extension": ".py",
   "mimetype": "text/x-python",
   "name": "python",
   "nbconvert_exporter": "python",
   "pygments_lexer": "ipython3",
   "version": "3.9.13"
  }
 },
 "nbformat": 4,
 "nbformat_minor": 4
}
