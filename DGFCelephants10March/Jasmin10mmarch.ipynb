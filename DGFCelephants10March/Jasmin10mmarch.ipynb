{
 "cells": [
  {
   "cell_type": "code",
   "execution_count": null,
   "metadata": {},
   "outputs": [],
   "source": [
    "import pandas as pd #for handling csv and csv contents\n",
    "from rdflib import Graph, Literal, RDF, URIRef, Namespace #basic RDF handling\n",
    "from rdflib.namespace import FOAF , XSD, SSN, SOSA #most common namespaces\n",
    "import urllib.parse #for parsing strings to URI's\n",
    "import matplotlib.pyplot as plt\n",
    "import plotly.graph_objects as go\n",
    "import plotly.express as px\n",
    "# import stardog"
   ]
  },
  {
   "cell_type": "code",
   "execution_count": null,
   "metadata": {},
   "outputs": [],
   "source": [
    "df = pd.read_csv('Jasmin.csv')"
   ]
  },
  {
   "cell_type": "code",
   "execution_count": null,
   "metadata": {},
   "outputs": [],
   "source": [
    "df['Altitude']= pd.to_numeric(df['Altitude'],errors='coerce')\n",
    "df['Altitude'].mean()"
   ]
  },
  {
   "cell_type": "code",
   "execution_count": null,
   "metadata": {},
   "outputs": [],
   "source": [
    "df.head(10)"
   ]
  },
  {
   "cell_type": "code",
   "execution_count": null,
   "metadata": {},
   "outputs": [],
   "source": [
    "df.describe()"
   ]
  },
  {
   "cell_type": "code",
   "execution_count": null,
   "metadata": {},
   "outputs": [],
   "source": [
    "g = Graph()\n",
    "ID = Namespace('foo_')\n",
    "owl = Namespace('http://www.w3.org/2002/07/owl#')\n",
    "sosa = Namespace('http://www.w3.org/ns/sosa/')\n",
    "foo = Namespace('http://www.ontology/ns/foo/1.1#')\n",
    "lat = Namespace('http://www.w3.org/2003/01/geo/wgs84_pos#')\n",
    "long =Namespace('http://www.w3.org/2003/01/geo/wgs84_pos#')\n",
    "alt = Namespace('http://www.w3.org/2003/01/geo/wgs84_pos#')\n",
    "time = Namespace('http://www.w3.org/2006/time#')\n",
    "schema = Namespace('http://schema.org/')\n",
    "XSD=Namespace('http://www.w3.org/2001/XMLSchema#')\n",
    "Class = Namespace('http://purl.org/ontology/wo/Class/')\n",
    "Family = Namespace('http://purl.org/ontology/wo/Family/')\n",
    "Kingdom = Namespace('http://purl.org/ontology/wo/kingdom/')\n",
    "Order = Namespace('http://purl.org/ontology/wo/Proboscidea/')\n",
    "Phylum = Namespace('http://purl.org/ontology/wo/Phylum/')"
   ]
  },
  {
   "cell_type": "code",
   "execution_count": null,
   "metadata": {},
   "outputs": [],
   "source": [
    "for index, row in df.iterrows():\n",
    "    g.add((URIRef(foo+row['ID']), RDF.type, SOSA.Observation))\n",
    "    g.add((URIRef(ID+row['ID']), foo.ID, Literal(row['ID'], datatype=XSD.string))) \n",
    "\n",
    "    g.add((URIRef(schema+'DGFC/elephant#Jasmin'), RDF.type,  sosa.Sensor))\n",
    "    g.add((URIRef(ID+row['ID']), URIRef(schema+'dgfc/elephant#Jasmin'), Literal(row['ID'], datatype=XSD.string))) \n",
    "          \n",
    "    g.add((URIRef(foo+'LocalDate'), RDF.type, sosa.observedProperty))\n",
    "    g.add((URIRef(ID+row['ID']), time.LocalDate, Literal(row['LocalDate'], datatype=XSD.date)))\n",
    "    \n",
    "    g.add((URIRef(foo+'LocalTime'), RDF.type, sosa.observedProperty))\n",
    "    g.add((URIRef(ID+row['ID']),  time.LocalTime, Literal(row['LocalTime'], datatype=XSD.time)))\n",
    "      \n",
    "    g.add((URIRef(foo+'GMTDate'), RDF.type, sosa.observedProperty))\n",
    "    g.add((URIRef(ID+row['ID']), time.GMTDate, Literal(row['GMTDate'], datatype=XSD.date)))\n",
    "\n",
    "    g.add((URIRef(foo+'GMTTime'), RDF.type, sosa.observedProperty))\n",
    "    g.add((URIRef(ID+row['ID']), time.GMTTime,  Literal(row['GMTTime'], datatype=XSD.time)))\n",
    "\n",
    "    g.add((URIRef(lat+'lat'), RDF.type, sosa.observedProperty))\n",
    "    g.add((URIRef(ID+row['ID']), lat.lat, Literal(row['lat'], datatype=XSD.float)))\n",
    "     \n",
    "    g.add((URIRef(long+'long'), RDF.type, sosa.observedProperty))\n",
    "    g.add((URIRef(ID+row['ID']), long.long, Literal(row['long'], datatype=XSD.float)))\n",
    "    \n",
    "    g.add((URIRef(foo+'Temperature'), RDF.type, sosa.observedProperty))\n",
    "    g.add((URIRef(ID+row['ID']), foo.Temperature, Literal(row['Temperature'], datatype=XSD.double)))\n",
    "    \n",
    "    g.add((URIRef(foo+'Speed'), RDF.type, sosa.observedProperty))\n",
    "    g.add((URIRef(ID+row['ID']), foo.Speed, Literal(row['Speed'], datatype=XSD.float)))\n",
    "    \n",
    "    g.add((URIRef(alt+'alt'), RDF.type, sosa.observedProperty))\n",
    "    g.add((URIRef(ID+row['ID']),  alt.alt, Literal(row['Altitude'], datatype=XSD.float)))\n",
    "   \n",
    "    g.add((URIRef(foo+'Direction'), RDF.type, sosa.observedProperty))\n",
    "    g.add((URIRef(ID+row['ID']), foo.Direction, Literal(row['Direction'], datatype=XSD.float)))\n",
    "    \n",
    "    g.add((URIRef(foo+'Distance'), RDF.type, sosa.observedProperty))\n",
    "    g.add((URIRef(ID+row['ID']), foo.Distance,  Literal(row['Distance'], datatype=XSD.float)))\n",
    "    \n",
    "    g.add((URIRef(foo+'HDOP'), RDF.type, sosa.observedProperty))\n",
    "    g.add((URIRef(ID+row['ID']), foo.HDOP, Literal(row['HDOP'], datatype=XSD.integer)))\n",
    " \n",
    "    g.add((URIRef(foo+'Cov'), RDF.type, sosa.observedProperty))\n",
    "    g.add((URIRef(ID+row['ID']), foo.Cov, Literal(row['Cov'], datatype=XSD.integer)))\n",
    "    \n",
    "    g.add((URIRef(foo+'Count'), RDF.type, sosa.observedProperty))\n",
    "    g.add((URIRef(ID+row['ID']), foo.Count, Literal(row['Count'], datatype=XSD.integer)))\n",
    "    \n",
    "    g.add((URIRef(foo+'ElephasMaximus'), RDF.type, Class.Mammalia))\n",
    "    g.add((URIRef(ID+row['ID']), URIRef(foo+'ElephasMaximus'), Literal(row['ID'], datatype=XSD.string)))\n",
    "    \n",
    "    g.add((URIRef(foo+'ElephasMaximus'), RDF.type, Family.Elephantidae))\n",
    "    g.add((URIRef(ID+row['ID']), URIRef(foo+'ElephasMaximus'), Literal(row['ID'], datatype=XSD.string))) \n",
    "    \n",
    "    g.add((URIRef(foo+'ElephasMaximus'), RDF.type, Kingdom.Animalia))\n",
    "    g.add((URIRef(ID+row['ID']), URIRef(foo+'ElephasMaximus'), Literal(row['ID'], datatype=XSD.string))) \n",
    "     \n",
    "    g.add((URIRef(foo+'ElephasMaximus'), RDF.type, Phylum.Chordata))\n",
    "    g.add((URIRef(ID+row['ID']), URIRef(foo+'ElephasMaximus'), Literal(row['ID'], datatype=XSD.string)))\n",
    "    "
   ]
  },
  {
   "cell_type": "code",
   "execution_count": null,
   "metadata": {},
   "outputs": [],
   "source": [
    "print(g.serialize(format='turtle')).head(1)"
   ]
  },
  {
   "cell_type": "code",
   "execution_count": null,
   "metadata": {},
   "outputs": [],
   "source": [
    "# saving ontology to disk\n",
    "g.serialize(\"Jasmin10march.rdf\", format=\"ttl\")"
   ]
  },
  {
   "cell_type": "code",
   "execution_count": null,
   "metadata": {},
   "outputs": [],
   "source": []
  }
 ],
 "metadata": {
  "kernelspec": {
   "display_name": "Python 3 (ipykernel)",
   "language": "python",
   "name": "python3"
  },
  "language_info": {
   "codemirror_mode": {
    "name": "ipython",
    "version": 3
   },
   "file_extension": ".py",
   "mimetype": "text/x-python",
   "name": "python",
   "nbconvert_exporter": "python",
   "pygments_lexer": "ipython3",
   "version": "3.9.13"
  }
 },
 "nbformat": 4,
 "nbformat_minor": 4
}
